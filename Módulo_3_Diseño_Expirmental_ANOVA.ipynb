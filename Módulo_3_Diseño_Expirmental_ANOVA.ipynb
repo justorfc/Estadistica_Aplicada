{
  "nbformat": 4,
  "nbformat_minor": 0,
  "metadata": {
    "colab": {
      "provenance": [],
      "mount_file_id": "1ZcgdY1elgcJnvT0nYyva2q4dhbmJU9aE",
      "authorship_tag": "ABX9TyM52C6rKbziN4eWA5VZo+c8",
      "include_colab_link": true
    },
    "kernelspec": {
      "name": "python3",
      "display_name": "Python 3"
    },
    "language_info": {
      "name": "python"
    }
  },
  "cells": [
    {
      "cell_type": "markdown",
      "metadata": {
        "id": "view-in-github",
        "colab_type": "text"
      },
      "source": [
        "<a href=\"https://colab.research.google.com/github/justorfc/Estadistica_Aplicada/blob/main/M%C3%B3dulo_3_Dise%C3%B1o_Expirmental_ANOVA.ipynb\" target=\"_parent\"><img src=\"https://colab.research.google.com/assets/colab-badge.svg\" alt=\"Open In Colab\"/></a>"
      ]
    },
    {
      "cell_type": "markdown",
      "source": [
        "# **Producción de acero**\n",
        "\n",
        "Con el fin de analizar el consumo energético de una empresa productora de acero se inspeccionaron durante cinco días cada una de las tres líneas de producción. En cada una de ellas se anotaron las variables más relevantes para las distintas horas del turno, salvo en la última hora donde sólo se inspeccionó durante cuatro días. En total se disponen de 117 mediciones recogidas en las siguientes variables:\n",
        "\n",
        "1. **consumo**: Consumo energético de la empresa (Megavatios · hora).\n",
        "2. **pr.tbc**: Producción del tren de bandas calientes (Toneladas de acero).\n",
        "3. **pr.cc**: Producción de colada continua (Toneladas de acero).\n",
        "4. **pr.ca**: Producción del convertidor de acero (Toneladas de acero).\n",
        "5. **pr.galv1**: Producción de galvanizado de tipo I (Toneladas de acero).\n",
        "6. **pr.galv2**: Producción de galvanizado de tipo II (Toneladas de acero).\n",
        "7. **pr.pint**: Producción de chapa pintada (Toneladas de acero).\n",
        "8. **línea**: Línea de producción empleada (A, B o C).\n",
        "9. **hora**: Hora en la que se recogieron los datos (1ª, 2ª, ... , 8ª).\n",
        "10. **temperatura**: Temperatura del sistema: alta (Alta), media (Media) y baja (Baja).\n",
        "11. **averias**: Presencia de averías (Sí, No).\n",
        "12. **naverias**: Número de averías detectadas.\n",
        "13. **sistema**: Activación de un sistema de detección de sobrecalentamiento: encendido (ON), apagado (OFF).\n",
        "14. **prodtotal**: Producción total en toneladas\n",
        "\n"
      ],
      "metadata": {
        "id": "V7017b6OKKM5"
      }
    },
    {
      "cell_type": "markdown",
      "source": [
        "# **Contrastes de Hipótesis**\n",
        "\n",
        "**Introducción**\n",
        "\n",
        "Los métodos descriptivos proporcionan una idea de cómo es la muestra. Para obtener conclusiones relativas a la población necesitamos utilizar técnicas de inferencia estadística. Dentro de éstas la más habitual es el **contraste de hipótesis**.\n",
        "\n",
        "Una **hipótesis** es una afirmación sobre las características estadísticas de un proceso, por lo que se puede considerar una hipótesis como **una conjetura**. Por ejemplo: si un técnico observa el consumo de energía durante varias horas, sabrá el consumo medio de las horas que observó. Conla ayuda de la inferencia, puede avanzar un paso más y conjeturar que el consumo medio de todas las horas de trabajo en esa fábrica es de 120. El proceso científico consiste entonces en probar su hipótesis contra una hipótesis alternativa:\n",
        "\n",
        "Hipótesis nula $H_0$:consumo medio=120\n",
        "\n",
        "Hipótesis alternativa $H_1$:consumo medio $\\neq$  120\n",
        "\n",
        "**Un test** consiste en un procedimiento estadístico para determinar la validez de una hipótesis (la **hipótesis nula**). Si los datos de la muestra resultan poco creíbles de obtenerse en caso de ser cierta dicha hipótesis, nuestra razón nos obligará a rechazarla. En caso contrario, no hay base suficiente para rechazarla. La aceptación de la hipótesis nula es muy difícil si sólo se usan procedimientos estadísticos. Sin embargo, desde el punto de vista práctico, el no rechazo de una hipótesis nos llevará a concluir que no hay evidencias significativas en contra de dicha hipótesis y, por tanto, que puede considerarse admisible.\n",
        "\n",
        "La forma habitual de presentar los resultados de un test de hipótesis es a través del **p-valor** o **nivel crítico**. Simplemente con este número se puede concluir si la hipótesis nula es o no rechazada aun nivel de significación ($\\alpha$).   El **p-valor** es el nivel de significación menor que llevaría al rechazo de la **hipótesis nula $H_0$**. Una vez que se conoce el **p-valor**, el responsable de tomar las decisiones puede determinar por sí mismo en qué medida son significativos los datos sin que se le imponga formalmente un nivel de significación predeterminado. Una vez conocido el valor del **p-valor** y **fijado el nivel de significación del contraste**, la decisión a tomar se obtiene comparando ambos valores, talcomo puede verse en el cuadro 2 siguiente:\n",
        "\n",
        "[Cuadro 2 Regla de Decisión](https://drive.google.com/file/d/1AT5TrOe0djdUPbc-LDVDOuq8bIKSXSRB/view?usp=sharing)"
      ],
      "metadata": {
        "id": "2U0kzXDfLqx-"
      }
    }
  ]
}