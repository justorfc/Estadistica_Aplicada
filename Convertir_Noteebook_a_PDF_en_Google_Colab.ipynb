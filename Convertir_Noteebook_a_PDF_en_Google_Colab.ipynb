{
  "nbformat": 4,
  "nbformat_minor": 0,
  "metadata": {
    "colab": {
      "provenance": [],
      "authorship_tag": "ABX9TyO9FF5mY9HHNimPtwDjEO92",
      "include_colab_link": true
    },
    "kernelspec": {
      "name": "python3",
      "display_name": "Python 3"
    },
    "language_info": {
      "name": "python"
    }
  },
  "cells": [
    {
      "cell_type": "markdown",
      "metadata": {
        "id": "view-in-github",
        "colab_type": "text"
      },
      "source": [
        "<a href=\"https://colab.research.google.com/github/justorfc/Estadistica_Aplicada/blob/main/Convertir_Noteebook_a_PDF_en_Google_Colab.ipynb\" target=\"_parent\"><img src=\"https://colab.research.google.com/assets/colab-badge.svg\" alt=\"Open In Colab\"/></a>"
      ]
    },
    {
      "cell_type": "markdown",
      "source": [
        "# Conversiones del Notebook de Google Colab\n",
        "\n",
        "**Nota**: El nombre del notebook no debe contener espacios, observe que el nombre de este notebook no tiene espacios:\n",
        "```\n",
        "Convertir_Noteebook_a_PDF_en_Google_Colab.ipynb\n",
        "```\n",
        "\n",
        "**Procedimiento:**\n",
        "\n",
        "1.   Suba el notebook que va a convertir a \"/content\":\n",
        "    + 1.1. Por ejemplo descargue este notebook y\n",
        "    + 1.2. Súbalo a esta sesión de trabajo y luego\n",
        "2.   Lance en celdas de código las siguientes órdenes:\n",
        "\n",
        "\n",
        "```\n",
        "!jupyter nbconvert --to html /content/Convertir_Noteebook_a_PDF_en_Google_Colab.ipynb\n",
        "\n",
        "# Convierte a HTML\n",
        "!jupyter nbconvert Regresión_Lineal_Múltiple.ipynb --to html\n",
        "\n",
        "# Instala paquetes para crear el pdf\n",
        "!sudo apt-get install texlive-xetex texlive-fonts-recommended texlive-plain-generic\n",
        "\n",
        "# Convierte el Notebook en PDF\n",
        "!jupyter nbconvert Regresión_Lineal_Múltiple.ipynb --to pdf\n",
        "```\n",
        "\n"
      ],
      "metadata": {
        "id": "7XSny104Sose"
      }
    },
    {
      "cell_type": "code",
      "source": [
        "# Instale nbconvert\n",
        "\n",
        "!jupyter nbconvert --to html /content/Convertir_Noteebook_a_PDF_en_Google_Colab.ipynb"
      ],
      "metadata": {
        "id": "cvJD9v9lV1OM"
      },
      "execution_count": null,
      "outputs": []
    },
    {
      "cell_type": "code",
      "source": [
        "# Convierte a HTML\n",
        "\n",
        "!jupyter nbconvert Regresión_Lineal_Múltiple.ipynb --to html"
      ],
      "metadata": {
        "id": "2q9BRV3RBpJl"
      },
      "execution_count": null,
      "outputs": []
    },
    {
      "cell_type": "code",
      "source": [
        "# Instala paquetes para crear el pdf\n",
        "\n",
        "!sudo apt-get install texlive-xetex texlive-fonts-recommended texlive-plain-generic"
      ],
      "metadata": {
        "id": "4wXK81lUEHZQ"
      },
      "execution_count": null,
      "outputs": []
    },
    {
      "cell_type": "code",
      "source": [
        "# Convierte el Notebook en PDF\n",
        "\n",
        "!jupyter nbconvert Regresión_Lineal_Múltiple.ipynb --to pdf"
      ],
      "metadata": {
        "id": "b5BEZPPxDnMO"
      },
      "execution_count": null,
      "outputs": []
    }
  ]
}