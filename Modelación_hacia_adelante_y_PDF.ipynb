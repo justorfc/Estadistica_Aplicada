{
  "nbformat": 4,
  "nbformat_minor": 0,
  "metadata": {
    "colab": {
      "provenance": [],
      "toc_visible": true,
      "authorship_tag": "ABX9TyO1vV/hM+bNiWeM/6XD+Al9",
      "include_colab_link": true
    },
    "kernelspec": {
      "name": "python3",
      "display_name": "Python 3"
    },
    "language_info": {
      "name": "python"
    }
  },
  "cells": [
    {
      "cell_type": "markdown",
      "metadata": {
        "id": "view-in-github",
        "colab_type": "text"
      },
      "source": [
        "<a href=\"https://colab.research.google.com/github/justorfc/Estadistica_Aplicada/blob/main/Modelaci%C3%B3n_hacia_adelante_y_PDF.ipynb\" target=\"_parent\"><img src=\"https://colab.research.google.com/assets/colab-badge.svg\" alt=\"Open In Colab\"/></a>"
      ]
    },
    {
      "cell_type": "markdown",
      "source": [
        "# **Regresión Lineal Múltiple forward**\n",
        "\n",
        "A continuación se presenta una introducción detallada sobre la modelación para la regresión lineal múltiple utilizando `statsmodels` en Python, aplicando los métodos de selección de variables hacia adelante, hacia atrás y ambos combinados, utilizando el dataset `Boston`.\n",
        "\n",
        "# **NOTA: A continuación se muestran algunos código que no han sido probados y depurados, se puede y debería copiar el contenido de esta celda de texto en un Notebook nuevo y pegar todo el código que aquí se muestra en celdas de código correspondientes y revisarlo. Sin embargo en las celdas de código que le siguen a esta celda de texto están los códigos totalmente funcionales que realizan Modelación forward con el dataset Boston del paquete MASS de R en Python**\n",
        "\n",
        "# Introducción a la Regresión Lineal Múltiple y Selección de Variables con `statsmodels` en Python\n",
        "\n",
        "La regresión lineal múltiple es una técnica estadística que nos permite modelar la relación entre una variable dependiente continua y varias variables independientes. Esta técnica es útil en diversas áreas, incluyendo la economía, la biología, y las ciencias de datos, donde se requiere entender y predecir el comportamiento de una variable en función de otras.\n",
        "\n",
        "En la práctica, no todas las variables independientes disponibles son necesariamente útiles para nuestro modelo. Algunas pueden no tener una relación significativa con la variable dependiente, o pueden estar altamente correlacionadas con otras variables, lo que puede afectar la estabilidad y la interpretabilidad del modelo. Para abordar este problema, se emplean métodos de selección de variables que permiten identificar un subconjunto óptimo de variables independientes.\n",
        "\n",
        "## Selección de Variables con `statsmodels`\n",
        "\n",
        "El paquete `statsmodels` en Python ofrece funciones avanzadas para la modelación estadística, incluida la regresión lineal múltiple. Para la selección de variables, utilizaremos una combinación de técnicas manuales y métricas como el criterio de información de Akaike (AIC). El AIC es una medida que considera tanto la bondad de ajuste del modelo como su complejidad, penalizando por el número de parámetros para evitar el sobreajuste.\n",
        "\n",
        "### Métodos de Selección de Variables\n",
        "\n",
        "1. **Modelación hacia Adelante (Forward Selection)**: Comienza con un modelo nulo (sin variables independientes) y agrega variables una por una, seleccionando en cada paso la variable que más reduce el AIC, hasta que no se puede reducir más el AIC con la adición de nuevas variables.\n",
        "\n",
        "2. **Modelación hacia Atrás (Backward Selection)**: Comienza con el modelo completo (con todas las variables independientes) y elimina variables una por una, seleccionando en cada paso la variable cuya eliminación reduce más el AIC, hasta que no se puede reducir más el AIC eliminando más variables.\n",
        "\n",
        "3. **Modelación de Ambos Sentidos (Stepwise Selection)**: Combina los dos métodos anteriores, permitiendo tanto la adición como la eliminación de variables en cada paso. Este método intenta encontrar un equilibrio óptimo entre la simplicidad del modelo y su capacidad de predicción.\n",
        "\n",
        "### Objetivos del Notebook\n",
        "\n",
        "En este notebook, se realizará un análisis práctico utilizando `statsmodels` para aplicar los métodos de selección de variables mencionados. Los objetivos específicos son:\n",
        "\n",
        "1. **Implementar y comparar la modelación hacia adelante, hacia atrás y de ambos sentidos**.\n",
        "2. **Evaluar el desempeño de los modelos seleccionados utilizando métricas de ajuste**.\n",
        "3. **Interpretar los resultados y seleccionar el modelo más adecuado basado en el AIC, R² y R² ajustado**.\n",
        "\n",
        "### Preparación del Entorno de Trabajo\n",
        "\n",
        "Asegúrate de tener instalados y cargados los paquetes necesarios en tu entorno de Python. El dataset `Boston` se cargará utilizando `statsmodels`.\n",
        "\n",
        "```python\n",
        "# Instalación de los paquetes necesarios\n",
        "!pip install statsmodels pandas numpy\n",
        "\n",
        "# Importación de los paquetes necesarios\n",
        "import statsmodels.api as sm\n",
        "import pandas as pd\n",
        "import numpy as np\n",
        "from itertools import combinations\n",
        "\n",
        "# Carga del dataset Boston\n",
        "boston_data = sm.datasets.get_rdataset('Boston', package='MASS').data\n",
        "```\n",
        "\n",
        "### Implementación de la Modelación y Selección de Variables\n",
        "\n",
        "#### 1. El Mejor Modelo Global\n",
        "\n",
        "```python\n",
        "# Definición de las variables independientes (X) y la variable dependiente (y)\n",
        "X = boston_data.drop(columns='medv')  # 'medv' es la variable dependiente\n",
        "y = boston_data['medv']\n",
        "\n",
        "# Añadir una constante al modelo (intercepto)\n",
        "X = sm.add_constant(X)\n",
        "\n",
        "# Ajustar el modelo completo\n",
        "model = sm.OLS(y, X).fit()\n",
        "\n",
        "# Mostrar el resumen del modelo\n",
        "print(model.summary())\n",
        "```\n",
        "\n",
        "#### 2. Los Mejores Modelos y sus Coeficientes\n",
        "\n",
        "```python\n",
        "# Forward Selection\n",
        "def forward_selection(data, target):\n",
        "    initial_features = []\n",
        "    best_features = initial_features[:]\n",
        "    while True:\n",
        "        remaining_features = list(set(data.columns) - set(best_features))\n",
        "        new_pval = pd.Series(index=remaining_features)\n",
        "        for new_column in remaining_features:\n",
        "            model = sm.OLS(target, sm.add_constant(pd.DataFrame(data[best_features + [new_column]]))).fit()\n",
        "            new_pval[new_column] = model.pvalues[new_column]\n",
        "        min_p_value = new_pval.min()\n",
        "        if min_p_value < 0.05:\n",
        "            best_features.append(new_pval.idxmin())\n",
        "        else:\n",
        "            break\n",
        "    return best_features\n",
        "\n",
        "best_features_forward = forward_selection(X.drop(columns='const'), y)\n",
        "print(\"Mejores variables (Forward Selection):\", best_features_forward)\n",
        "\n",
        "# Ajustar el modelo con las mejores variables\n",
        "X_forward = sm.add_constant(X[best_features_forward])\n",
        "model_forward = sm.OLS(y, X_forward).fit()\n",
        "print(model_forward.summary())\n",
        "```\n",
        "\n",
        "#### 3. Los Mejores Modelos con sus Variables y sus Coeficientes\n",
        "\n",
        "```python\n",
        "# Backward Selection\n",
        "def backward_selection(data, target):\n",
        "    features = list(data.columns)\n",
        "    while True:\n",
        "        pvals = sm.OLS(target, sm.add_constant(pd.DataFrame(data[features]))).fit().pvalues[1:]\n",
        "        max_p_value = pvals.max()\n",
        "        if max_p_value >= 0.05:\n",
        "            excluded_feature = pvals.idxmax()\n",
        "            features.remove(excluded_feature)\n",
        "        else:\n",
        "            break\n",
        "    return features\n",
        "\n",
        "best_features_backward = backward_selection(X.drop(columns='const'), y)\n",
        "print(\"Mejores variables (Backward Selection):\", best_features_backward)\n",
        "\n",
        "# Ajustar el modelo con las mejores variables\n",
        "X_backward = sm.add_constant(X[best_features_backward])\n",
        "model_backward = sm.OLS(y, X_backward).fit()\n",
        "print(model_backward.summary())\n",
        "```\n",
        "\n",
        "#### 4. La Modelación con AIC, R² y R² Ajustado\n",
        "\n",
        "```python\n",
        "# Comparación de modelos con AIC, R² y R² ajustado\n",
        "models = {\n",
        "    'Global': model,\n",
        "    'Forward Selection': model_forward,\n",
        "    'Backward Selection': model_backward\n",
        "}\n",
        "\n",
        "for name, mdl in models.items():\n",
        "    print(f\"{name} - AIC: {mdl.aic}, R²: {mdl.rsquared}, R² ajustado: {mdl.rsquared_adj}\")\n",
        "```"
      ],
      "metadata": {
        "id": "sqqq07tYGqSc"
      }
    },
    {
      "cell_type": "markdown",
      "source": [
        "## Mejor modelo global"
      ],
      "metadata": {
        "id": "M2GSggrnOtgA"
      }
    },
    {
      "cell_type": "code",
      "source": [
        "import pandas as pd\n",
        "import statsmodels.api as sm\n",
        "from itertools import combinations\n",
        "\n",
        "# Cargar el dataset Boston desde statsmodels\n",
        "boston_data = sm.datasets.get_rdataset('Boston', package='MASS').data\n",
        "\n",
        "# Lista de nombres de variables (características)\n",
        "variables = boston_data.columns[:-1].tolist()\n",
        "\n",
        "# Crear todos los posibles modelos con una sola variable\n",
        "models = {}\n",
        "for var in variables:\n",
        "    model = sm.OLS(boston_data['medv'], sm.add_constant(boston_data[var])).fit()\n",
        "    models[var] = {'model': model, 'AIC': model.aic}\n",
        "\n",
        "# Encontrar el modelo más simple (con una variable) con el menor AIC\n",
        "best_model = min(models.items(), key=lambda x: x[1]['AIC'])\n",
        "\n",
        "# Iterar para agregar una variable más a los modelos existentes\n",
        "num_variables = 2\n",
        "while num_variables <= len(variables):\n",
        "    # Crear todos los modelos con num_variables variables\n",
        "    combos = combinations(variables, num_variables)\n",
        "    for combo in combos:\n",
        "        combo_name = '_'.join(combo)\n",
        "        combo_vars = [boston_data[var] for var in combo]\n",
        "        combo_vars = sm.add_constant(pd.concat(combo_vars, axis=1))\n",
        "        model = sm.OLS(boston_data['medv'], combo_vars).fit()\n",
        "        models[combo_name] = {'model': model, 'AIC': model.aic}\n",
        "\n",
        "    # Encontrar el mejor modelo con num_variables variables\n",
        "    best_model = min(models.items(), key=lambda x: x[1]['AIC'])\n",
        "\n",
        "    num_variables += 1\n",
        "\n",
        "# Mostrar el mejor modelo y su AIC\n",
        "print(f\"Mejor modelo encontrado: {best_model[0]} con AIC: {best_model[1]['AIC']}\")\n"
      ],
      "metadata": {
        "id": "0cZuf9wxQpwv"
      },
      "execution_count": null,
      "outputs": []
    },
    {
      "cell_type": "code",
      "source": [],
      "metadata": {
        "id": "vu6UEAsFWHCr"
      },
      "execution_count": null,
      "outputs": []
    },
    {
      "cell_type": "markdown",
      "source": [
        "## Mejores Modelos de 1 a n Variables y Modelo Global"
      ],
      "metadata": {
        "id": "gNoF9tXG1Jhh"
      }
    },
    {
      "cell_type": "code",
      "source": [
        "import pandas as pd\n",
        "import statsmodels.api as sm\n",
        "from itertools import combinations\n",
        "\n",
        "# Cargar el dataset Boston desde statsmodels\n",
        "boston_data = sm.datasets.get_rdataset('Boston', package='MASS').data\n",
        "\n",
        "# Lista de nombres de variables (características)\n",
        "variables = boston_data.columns[:-1].tolist()\n",
        "\n",
        "# Crear todos los posibles modelos con una sola variable\n",
        "models = {}\n",
        "for var in variables:\n",
        "    model = sm.OLS(boston_data['medv'], sm.add_constant(boston_data[var])).fit()\n",
        "    models[var] = {'model': model, 'AIC': model.aic}\n",
        "\n",
        "# Encontrar el modelo más simple (con una variable) con el menor AIC\n",
        "best_model = min(models.items(), key=lambda x: x[1]['AIC'])\n",
        "\n",
        "# Imprimir el mejor modelo con una variable y su AIC\n",
        "print(f\"Mejor modelo con una variable: {best_model[0]} con AIC: {best_model[1]['AIC']}\")\n",
        "print()\n",
        "\n",
        "# Iterar para agregar una variable más a los modelos existentes\n",
        "num_variables = 2\n",
        "while num_variables <= len(variables):\n",
        "    # Crear todos los modelos con num_variables variables\n",
        "    combos = combinations(variables, num_variables)\n",
        "    for combo in combos:\n",
        "        combo_name = '_'.join(combo)\n",
        "        combo_vars = [boston_data[var] for var in combo]\n",
        "        combo_vars = sm.add_constant(pd.concat(combo_vars, axis=1))\n",
        "        model = sm.OLS(boston_data['medv'], combo_vars).fit()\n",
        "        models[combo_name] = {'model': model, 'AIC': model.aic}\n",
        "\n",
        "    # Encontrar el mejor modelo con num_variables variables\n",
        "    best_model = min(models.items(), key=lambda x: x[1]['AIC'])\n",
        "    print(f\"Mejor modelo con {num_variables} variables: {best_model[0]} con AIC: {best_model[1]['AIC']}\")\n",
        "\n",
        "    num_variables += 1\n",
        "    print()\n",
        "\n",
        "# Mostrar el mejor modelo global y su AIC\n",
        "print(f\"Mejor modelo encontrado globalmente: {best_model[0]} con AIC: {best_model[1]['AIC']}\")\n"
      ],
      "metadata": {
        "id": "79UbL3XJSmb5"
      },
      "execution_count": null,
      "outputs": []
    },
    {
      "cell_type": "code",
      "source": [],
      "metadata": {
        "id": "U0L-Yvq-Vu80"
      },
      "execution_count": null,
      "outputs": []
    },
    {
      "cell_type": "markdown",
      "source": [
        "## Mejores Modelos y sus Coeficientes\n",
        "\n",
        "Se puede ajustar el código anterior para que además de mostrar los nombres de las variables en cada modelo, también imprima los coeficientes correspondientes. Aquí está el código modificado:"
      ],
      "metadata": {
        "id": "FQy7jly_O-wa"
      }
    },
    {
      "cell_type": "code",
      "source": [
        "# Claro, puedo ajustar el código para que además de mostrar los nombres de las variables en cada modelo, también imprima los coeficientes correspondientes. Aquí está el código modificado:\n",
        "import pandas as pd\n",
        "import statsmodels.api as sm\n",
        "from itertools import combinations\n",
        "\n",
        "# Cargar el dataset Boston desde statsmodels\n",
        "boston_data = sm.datasets.get_rdataset('Boston', package='MASS').data\n",
        "\n",
        "# Lista de nombres de variables (características)\n",
        "variables = boston_data.columns[:-1].tolist()\n",
        "\n",
        "# Crear todos los posibles modelos con una sola variable\n",
        "models = {}\n",
        "for var in variables:\n",
        "    model = sm.OLS(boston_data['medv'], sm.add_constant(boston_data[var])).fit()\n",
        "    models[var] = {'model': model, 'AIC': model.aic, 'coefficients': [model.params['const'], model.params[var]]}\n",
        "\n",
        "# Encontrar el modelo más simple (con una variable) con el menor AIC\n",
        "best_model = min(models.items(), key=lambda x: x[1]['AIC'])\n",
        "\n",
        "# Imprimir el mejor modelo con una variable, sus coeficientes y su AIC\n",
        "print(f\"Mejor modelo con una variable: {best_model[0]} con AIC: {best_model[1]['AIC']}\")\n",
        "print(f\"Coeficientes: Intercepto: {best_model[1]['coefficients'][0]}, {best_model[0]}: {best_model[1]['coefficients'][1]}\")\n",
        "print()\n",
        "\n",
        "# Iterar para agregar una variable más a los modelos existentes\n",
        "num_variables = 2\n",
        "while num_variables <= len(variables):\n",
        "    # Crear todos los modelos con num_variables variables\n",
        "    combos = combinations(variables, num_variables)\n",
        "    for combo in combos:\n",
        "        combo_name = '_'.join(combo)\n",
        "        combo_vars = [boston_data[var] for var in combo]\n",
        "        combo_vars = sm.add_constant(pd.concat(combo_vars, axis=1))\n",
        "        model = sm.OLS(boston_data['medv'], combo_vars).fit()\n",
        "        models[combo_name] = {'model': model, 'AIC': model.aic, 'coefficients': model.params.tolist()}\n",
        "\n",
        "    # Encontrar el mejor modelo con num_variables variables\n",
        "    best_model = min(models.items(), key=lambda x: x[1]['AIC'])\n",
        "    print(f\"Mejor modelo con {num_variables} variables: {best_model[0]} con AIC: {best_model[1]['AIC']}\")\n",
        "    print(f\"Coeficientes: {best_model[1]['coefficients']}\")\n",
        "\n",
        "    num_variables += 1\n",
        "    print()\n",
        "\n",
        "# Mostrar el mejor modelo global, sus coeficientes y su AIC\n",
        "print(f\"Mejor modelo encontrado globalmente: {best_model[0]} con AIC: {best_model[1]['AIC']}\")\n",
        "print(f\"Coeficientes: {best_model[1]['coefficients']}\")\n"
      ],
      "metadata": {
        "id": "9Fmcr7vlTEyz"
      },
      "execution_count": null,
      "outputs": []
    },
    {
      "cell_type": "code",
      "source": [],
      "metadata": {
        "id": "2kum7RWnVxbh"
      },
      "execution_count": null,
      "outputs": []
    },
    {
      "cell_type": "markdown",
      "source": [
        "## Mejores modelos con sus variables y coeficientes separados"
      ],
      "metadata": {
        "id": "Gcp0UPGQPPlV"
      }
    },
    {
      "cell_type": "code",
      "source": [
        "# El siguiente código muestra los coeficientes de cada modelo junto con sus variables.\n",
        "import pandas as pd\n",
        "import statsmodels.api as sm\n",
        "from itertools import combinations\n",
        "\n",
        "# Cargar el dataset Boston desde statsmodels\n",
        "boston_data = sm.datasets.get_rdataset('Boston', package='MASS').data\n",
        "\n",
        "# Lista de nombres de variables (características)\n",
        "variables = boston_data.columns[:-1].tolist()\n",
        "\n",
        "# Crear todos los posibles modelos con una sola variable\n",
        "models = {}\n",
        "for var in variables:\n",
        "    model = sm.OLS(boston_data['medv'], sm.add_constant(boston_data[var])).fit()\n",
        "    models[var] = {'model': model, 'AIC': model.aic, 'formula': f'medv ~ {var}'}\n",
        "\n",
        "# Encontrar el modelo más simple (con una variable) con el menor AIC\n",
        "best_model = min(models.items(), key=lambda x: x[1]['AIC'])\n",
        "\n",
        "# Imprimir el mejor modelo con una variable, su AIC y coeficientes\n",
        "print(f\"Mejor modelo con una variable: {best_model[1]['formula']} con AIC: {best_model[1]['AIC']}\")\n",
        "print(\"Coeficientes:\")\n",
        "print(best_model[1]['model'].params)\n",
        "print()\n",
        "\n",
        "# Iterar para agregar una variable más a los modelos existentes\n",
        "num_variables = 2\n",
        "while num_variables <= len(variables):\n",
        "    # Crear todos los modelos con num_variables variables\n",
        "    combos = combinations(variables, num_variables)\n",
        "    for combo in combos:\n",
        "        combo_name = '_'.join(combo)\n",
        "        combo_vars = [boston_data[var] for var in combo]\n",
        "        combo_vars = sm.add_constant(pd.concat(combo_vars, axis=1))\n",
        "        model = sm.OLS(boston_data['medv'], combo_vars).fit()\n",
        "        models[combo_name] = {'model': model, 'AIC': model.aic, 'formula': f'medv ~ {\" + \".join(combo)}'}\n",
        "\n",
        "    # Encontrar el mejor modelo con num_variables variables\n",
        "    best_model = min(models.items(), key=lambda x: x[1]['AIC'])\n",
        "    print(f\"Mejor modelo con {num_variables} variables: {best_model[1]['formula']} con AIC: {best_model[1]['AIC']}\")\n",
        "    print(\"Coeficientes:\")\n",
        "    print(best_model[1]['model'].params)\n",
        "\n",
        "    num_variables += 1\n",
        "    print()\n",
        "\n",
        "# Mostrar el mejor modelo global y su AIC\n",
        "print(f\"Mejor modelo encontrado globalmente: {best_model[1]['formula']} con AIC: {best_model[1]['AIC']}\")\n",
        "print(\"Coeficientes:\")\n",
        "print(best_model[1]['model'].params)\n"
      ],
      "metadata": {
        "id": "VLk1J0o5U7kX"
      },
      "execution_count": null,
      "outputs": []
    },
    {
      "cell_type": "code",
      "source": [],
      "metadata": {
        "id": "YyF10F-tVzTB"
      },
      "execution_count": null,
      "outputs": []
    },
    {
      "cell_type": "markdown",
      "source": [
        "# Modelación con AIC, $R^2$ y $R^2$ Ajustado\n",
        "\n",
        "El siguiente es el código modificado para incluir los valores de $R^2$ y $R^2$ Ajustado y seleccionar el modelo con el mayor **$R^2$ Ajustado**."
      ],
      "metadata": {
        "id": "YD5LB3qHIQkm"
      }
    },
    {
      "cell_type": "code",
      "source": [
        "import pandas as pd\n",
        "import statsmodels.api as sm\n",
        "from itertools import combinations\n",
        "\n",
        "# Cargar el dataset Boston desde statsmodels\n",
        "boston_data = sm.datasets.get_rdataset('Boston', package='MASS').data\n",
        "\n",
        "# Lista de nombres de variables (características)\n",
        "variables = boston_data.columns[:-1].tolist()\n",
        "\n",
        "# Crear todos los posibles modelos con una sola variable\n",
        "models = {}\n",
        "for var in variables:\n",
        "    model = sm.OLS(boston_data['medv'], sm.add_constant(boston_data[var])).fit()\n",
        "    models[var] = {'model': model, 'AIC': model.aic, 'R_squared': model.rsquared, 'R_squared_adj': model.rsquared_adj,\n",
        "                   'formula': f'medv ~ {var}'}\n",
        "\n",
        "# Encontrar el modelo más simple (con una variable) con el menor AIC\n",
        "best_model = min(models.items(), key=lambda x: x[1]['AIC'])\n",
        "\n",
        "# Imprimir el mejor modelo con una variable, su AIC, R cuadrado y R cuadrado ajustado\n",
        "print(f\"Mejor modelo con una variable: {best_model[1]['formula']} con AIC: {best_model[1]['AIC']}\")\n",
        "print(f\"R cuadrado: {best_model[1]['R_squared']}, R cuadrado ajustado: {best_model[1]['R_squared_adj']}\")\n",
        "print(\"Coeficientes:\")\n",
        "print(best_model[1]['model'].params)\n",
        "print()\n",
        "\n",
        "# Iterar para agregar una variable más a los modelos existentes\n",
        "num_variables = 2\n",
        "while num_variables <= len(variables):\n",
        "    # Crear todos los modelos con num_variables variables\n",
        "    combos = combinations(variables, num_variables)\n",
        "    for combo in combos:\n",
        "        combo_name = '_'.join(combo)\n",
        "        combo_vars = [boston_data[var] for var in combo]\n",
        "        combo_vars = sm.add_constant(pd.concat(combo_vars, axis=1))\n",
        "        model = sm.OLS(boston_data['medv'], combo_vars).fit()\n",
        "        models[combo_name] = {'model': model, 'AIC': model.aic, 'R_squared': model.rsquared, 'R_squared_adj': model.rsquared_adj,\n",
        "                              'formula': f'medv ~ {\" + \".join(combo)}'}\n",
        "\n",
        "    # Encontrar el mejor modelo con num_variables variables\n",
        "    best_model = min(models.items(), key=lambda x: x[1]['AIC'])\n",
        "    print(f\"Mejor modelo con {num_variables} variables: {best_model[1]['formula']} con AIC: {best_model[1]['AIC']}\")\n",
        "    print(f\"R cuadrado: {best_model[1]['R_squared']}, R cuadrado ajustado: {best_model[1]['R_squared_adj']}\")\n",
        "    print(\"Coeficientes:\")\n",
        "    print(best_model[1]['model'].params)\n",
        "\n",
        "    num_variables += 1\n",
        "    print()\n",
        "\n",
        "# Mostrar el mejor modelo global y su AIC, R cuadrado y R cuadrado ajustado\n",
        "print(f\"Mejor modelo encontrado globalmente: {best_model[1]['formula']} con AIC: {best_model[1]['AIC']}\")\n",
        "print(f\"R cuadrado: {best_model[1]['R_squared']}, R cuadrado ajustado: {best_model[1]['R_squared_adj']}\")\n",
        "print(\"Coeficientes:\")\n",
        "print(best_model[1]['model'].params)\n"
      ],
      "metadata": {
        "id": "Ac9f7m6bJskG"
      },
      "execution_count": null,
      "outputs": []
    },
    {
      "cell_type": "code",
      "source": [],
      "metadata": {
        "id": "cvJD9v9lV1OM"
      },
      "execution_count": null,
      "outputs": []
    },
    {
      "cell_type": "markdown",
      "source": [
        "# Modelación Hacia Atras con R"
      ],
      "metadata": {
        "id": "cwfdtwZWU0Fy"
      }
    },
    {
      "cell_type": "code",
      "source": [
        "load_ext rpy2.ipython"
      ],
      "metadata": {
        "id": "uFGLuksGU7We"
      },
      "execution_count": null,
      "outputs": []
    },
    {
      "cell_type": "code",
      "source": [
        "%%R\n",
        "\n",
        "library(MASS)\n",
        "data(Boston)\n",
        "\n",
        "modelo_completo=lm(medv~., data = Boston)\n",
        "\n",
        "summary(modelo_completo)\n",
        "\n",
        "mejor_modelo=stepAIC(modelo_completo)\n",
        "\n",
        "summary(mejor_modelo)"
      ],
      "metadata": {
        "id": "OGyuOUlHU5gr"
      },
      "execution_count": null,
      "outputs": []
    },
    {
      "cell_type": "code",
      "source": [
        "%%R\n",
        "\n",
        "# Tomar las variables del último modelo sugerido pór AIC\n",
        "\n",
        "library(MASS)\n",
        "data(Boston)\n",
        "\n",
        "Modelo_aic = lm(medv ~ , data = Boston)\n",
        "\n",
        "summary(modelo_aic)"
      ],
      "metadata": {
        "id": "y7OP9F0HWdng"
      },
      "execution_count": null,
      "outputs": []
    },
    {
      "cell_type": "markdown",
      "source": [
        "# Conversiones del Notebook de Google Colab\n",
        "\n",
        "**Nota**: El nombre del notebook no debe contener espacios, observe que el nombre de este notebook no tiene espacios:\n",
        "```\n",
        "Convertir_Noteebook_a_PDF_en_Google_Colab.ipynb\n",
        "```\n",
        "\n",
        "**Procedimiento:**\n",
        "\n",
        "1.   Suba el notebook que va a convertir a \"/content\":\n",
        "    + 1.1. Por ejemplo descargue este notebook y\n",
        "    + 1.2. Súbalo a esta sesión de trabajo y luego\n",
        "2.   Lance en celdas de código las siguientes órdenes:\n",
        "\n",
        "\n",
        "```\n",
        "!jupyter nbconvert --to html /content/Convertir_Noteebook_a_PDF_en_Google_Colab.ipynb\n",
        "\n",
        "# Convierte a HTML\n",
        "!jupyter nbconvert Regresión_Lineal_Múltiple.ipynb --to html\n",
        "\n",
        "# Instala paquetes para crear el pdf\n",
        "!sudo apt-get install texlive-xetex texlive-fonts-recommended texlive-plain-generic\n",
        "\n",
        "# Convierte el Notebook en PDF\n",
        "!jupyter nbconvert Regresión_Lineal_Múltiple.ipynb --to pdf\n",
        "```\n",
        "\n"
      ],
      "metadata": {
        "id": "7XSny104Sose"
      }
    },
    {
      "cell_type": "code",
      "source": [
        "# Instale nbconvert\n",
        "\n",
        "!jupyter nbconvert --to html /content/Modelación_hacia_adelante_y_PDF.ipynb"
      ],
      "metadata": {
        "id": "PBGNsoNH4Ei2"
      },
      "execution_count": null,
      "outputs": []
    },
    {
      "cell_type": "code",
      "source": [
        "# Convierte a HTML\n",
        "\n",
        "!jupyter nbconvert Modelación_hacia_adelante_y_PDF.ipynb --to html"
      ],
      "metadata": {
        "id": "2q9BRV3RBpJl"
      },
      "execution_count": null,
      "outputs": []
    },
    {
      "cell_type": "code",
      "source": [
        "# Instala paquetes para crear el pdf\n",
        "\n",
        "!sudo apt-get install texlive-xetex texlive-fonts-recommended texlive-plain-generic"
      ],
      "metadata": {
        "id": "4wXK81lUEHZQ"
      },
      "execution_count": null,
      "outputs": []
    },
    {
      "cell_type": "code",
      "source": [
        "# Convierte el Notebook en PDF\n",
        "\n",
        "!jupyter nbconvert Modelación_hacia_adelante_y_PDF.ipynb --to pdf"
      ],
      "metadata": {
        "id": "b5BEZPPxDnMO"
      },
      "execution_count": null,
      "outputs": []
    }
  ]
}