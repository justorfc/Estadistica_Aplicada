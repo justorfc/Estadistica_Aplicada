{
  "nbformat": 4,
  "nbformat_minor": 0,
  "metadata": {
    "colab": {
      "provenance": [],
      "include_colab_link": true
    },
    "kernelspec": {
      "name": "ir",
      "display_name": "R"
    },
    "language_info": {
      "name": "R"
    }
  },
  "cells": [
    {
      "cell_type": "markdown",
      "metadata": {
        "id": "view-in-github",
        "colab_type": "text"
      },
      "source": [
        "<a href=\"https://colab.research.google.com/github/justorfc/Estadistica_Aplicada/blob/main/Primera_Sesi%C3%B3n_con_R_y_Vectorizaci%C3%B3n.ipynb\" target=\"_parent\"><img src=\"https://colab.research.google.com/assets/colab-badge.svg\" alt=\"Open In Colab\"/></a>"
      ]
    },
    {
      "cell_type": "markdown",
      "source": [
        "# PRIMERA SESION CON R Y VECTORIZACION"
      ],
      "metadata": {
        "id": "HZWiz5_ifHUx"
      }
    },
    {
      "cell_type": "markdown",
      "source": [
        "# Directorio o carpeta de trabajo\n",
        "\n",
        "\n",
        "\n",
        "```\n",
        "?setwd\n",
        "setwd(\"c:/agregados\")\n",
        "getwd()\n",
        "dir()\n",
        "\n",
        "```\n",
        "\n"
      ],
      "metadata": {
        "id": "gfXBu22nfUsA"
      }
    },
    {
      "cell_type": "code",
      "execution_count": null,
      "metadata": {
        "id": "1Qg8yhAQecXu"
      },
      "outputs": [],
      "source": []
    },
    {
      "cell_type": "code",
      "source": [],
      "metadata": {
        "id": "-ENey1gJff_1"
      },
      "execution_count": null,
      "outputs": []
    },
    {
      "cell_type": "code",
      "source": [],
      "metadata": {
        "id": "s-3EYpzVflAa"
      },
      "execution_count": null,
      "outputs": []
    },
    {
      "cell_type": "code",
      "source": [],
      "metadata": {
        "id": "9WZw04n-fqc3"
      },
      "execution_count": null,
      "outputs": []
    },
    {
      "cell_type": "markdown",
      "source": [
        "# Almacenamiento y eliminación de objetos.\n",
        "\n",
        "```r\n",
        "x = 23\n",
        "y = 12\n",
        "z = 12.56\n",
        "\n",
        "typeof(x)\n",
        "\n",
        "objects()\n",
        "ls()\n",
        "ls.str()\n",
        "rm(x, y, z)\n",
        "rm(list=ls())\n",
        "```\n",
        "\n"
      ],
      "metadata": {
        "id": "k_klYKnpjINI"
      }
    },
    {
      "cell_type": "code",
      "source": [],
      "metadata": {
        "id": "uXUhkjI3h-P0"
      },
      "execution_count": null,
      "outputs": []
    },
    {
      "cell_type": "markdown",
      "source": [
        "# Mode\n",
        "\n",
        "```\n",
        "X=1:20\n",
        "mode(x)\n",
        "length(x)\n",
        "s = \"Arcilla\"; lluvia = TRUE; z = 1i\n",
        "mode(s); mode(lluvia); mode(z)\n",
        "```\n",
        "\n"
      ],
      "metadata": {
        "id": "YUr1Z21Hk25v"
      }
    },
    {
      "cell_type": "code",
      "source": [],
      "metadata": {
        "id": "9tV9wdhhk9cY"
      },
      "execution_count": null,
      "outputs": []
    },
    {
      "cell_type": "markdown",
      "source": [
        "# Cálculos sencillos. Números y vectores. Aritmética vectorial\n",
        "\n",
        "```\n",
        "3+2\n",
        "5*8\n",
        "8/3\n",
        "4^2\n",
        "sqrt(24)\n",
        "abs(-25)\n",
        "\n",
        "x=1:5\n",
        "y=5:1\n",
        "x + y\n",
        "x - y\n",
        "x * y\n",
        "x / y\n",
        "x ^ y\n",
        "x %% y   # Residuo o módulo\n",
        "x %/% y   # División Entera\n",
        "x = c(10.4, 5.6, 3.1, 6.4, 21.7)\n",
        "1/x\n",
        "y = c(x, 0, x)\n",
        "v = 2*x + y + 1\n",
        "a=12\n",
        "b=a+21\n",
        "c=a*b\n",
        "d=a/b^2\n",
        "z=sqrt(d)\n",
        "log(a)\n",
        "exp(a)\n",
        "```\n",
        "\n"
      ],
      "metadata": {
        "id": "7M6x_M43lDFJ"
      }
    },
    {
      "cell_type": "code",
      "source": [],
      "metadata": {
        "id": "ZwzeU5JXjE_v"
      },
      "execution_count": null,
      "outputs": []
    },
    {
      "cell_type": "markdown",
      "source": [
        "# Funciones Estadísticas\n",
        "\n",
        "```\n",
        "x = c(10.4, 5.6, 3.1, 6.4, 21.7)\n",
        "?max\n",
        "max(x)\n",
        "min(x)\n",
        "range(x)\n",
        "sum(x)\n",
        "prod(x)\n",
        "length(x)\n",
        "summary(x)\n",
        "```\n",
        "\n"
      ],
      "metadata": {
        "id": "McujTYyQlPX8"
      }
    },
    {
      "cell_type": "code",
      "source": [],
      "metadata": {
        "id": "8HVVQjijjpUj"
      },
      "execution_count": null,
      "outputs": []
    },
    {
      "cell_type": "markdown",
      "source": [
        "# Ordenación\n",
        "\n",
        "```\n",
        "x=c(100,25, 32,15,18,95,74,35)\n",
        "sort(x)\n",
        "x\n",
        "y=sort(x)\n",
        "y\n",
        "```\n",
        "\n"
      ],
      "metadata": {
        "id": "xnj4a3UdlXj6"
      }
    },
    {
      "cell_type": "code",
      "source": [],
      "metadata": {
        "id": "EkauYcKllGnP"
      },
      "execution_count": null,
      "outputs": []
    },
    {
      "cell_type": "markdown",
      "source": [
        "# Funciones trigonométricas\n",
        "\n",
        "```\n",
        "r=pi/180\n",
        "sin(90)\n",
        "sin(90*r)\n",
        "cos(90)\n",
        "cos(90*r)\n",
        "tan(45)\n",
        "tan(45*r)\n",
        "```\n",
        "\n"
      ],
      "metadata": {
        "id": "45L9usn2ldTp"
      }
    },
    {
      "cell_type": "code",
      "source": [],
      "metadata": {
        "id": "j4RBBSL8ljlx"
      },
      "execution_count": null,
      "outputs": []
    },
    {
      "cell_type": "markdown",
      "source": [
        "# Generación de sucesiones\n",
        "\n",
        "```\n",
        "x <- 1:30\n",
        "```\n",
        "# La función seq() puede generar secuencias de números reales:\n",
        "\n",
        "```\n",
        "?seq\n",
        "seq(1, 5, 0.5)\n",
        "seq(length=9, from=1, to=5)\n",
        "rep(1, 30)\n",
        "```"
      ],
      "metadata": {
        "id": "h2RfE2QjlkAc"
      }
    },
    {
      "cell_type": "code",
      "source": [],
      "metadata": {
        "id": "fOEZcCYplt7J"
      },
      "execution_count": null,
      "outputs": []
    },
    {
      "cell_type": "markdown",
      "source": [
        "# FUNCION gl().Generate Factor Levels. Generate factors by specifying the pattern of their levels.\n",
        "\n",
        "```\n",
        "?gl\n",
        "gl(3, 5)\n",
        "gl(3, 5, length=30)\n",
        "gl(2, 6, label=c(\"Macho\", \"Hembra\"))\n",
        "gl(2, 10)\n",
        "gl(2, 1, length=20)\n",
        "gl(2, 2, length=20)\n",
        "\n",
        "```\n",
        "\n"
      ],
      "metadata": {
        "id": "YyVmchOpmFOG"
      }
    },
    {
      "cell_type": "code",
      "source": [],
      "metadata": {
        "id": "Bam0lPGfmNG9"
      },
      "execution_count": null,
      "outputs": []
    },
    {
      "cell_type": "markdown",
      "source": [
        "# Marcos de datos.\n",
        "\n",
        "```\n",
        "?expand.grid\n",
        "expand.grid(a=c(60,80), p=c(100, 300), sexo=c(\"Macho\", \"Hembra\"))\n",
        "expand.grid(altura = seq(60, 80, 5), peso = seq(100, 300, 50), sexo = c(\"M\",\"F\"))\n",
        "x = seq(0,10, length.out=100)\n",
        "y = seq(-1,1, length.out=20)\n",
        "d1 = expand.grid(x=x, y=y)\n",
        "d2 = expand.grid(x=x, y=y, KEEP.OUT.ATTRS = FALSE)\n",
        "object.size(d1) - object.size(d2)\n",
        "\n",
        "x <- 1:4; n <- 10; M <- c(10, 35); y <- 2:4\n",
        "data.frame(x, n)\n",
        "```\n",
        "\n"
      ],
      "metadata": {
        "id": "jXutVCA2mNsg"
      }
    },
    {
      "cell_type": "code",
      "source": [],
      "metadata": {
        "id": "Vmt_YwCMmV3x"
      },
      "execution_count": null,
      "outputs": []
    },
    {
      "cell_type": "markdown",
      "source": [
        "# Funciones cbind, y rbind\n",
        "\n",
        "```\n",
        "? cbind\n",
        "? rbind\n",
        "\n",
        "L3 <- LETTERS[1:3]\n",
        "(d <- data.frame(cbind(x=1, y=1:10), fac=sample(L3, 10, replace=TRUE)))\n",
        "d <- data.frame(cbind(x=1, y=1:10), fac=sample(L3, 10, replace=TRUE))\n",
        "data.frame(cbind(  1,   1:10),     sample(L3, 10, replace=TRUE))\n",
        "is.data.frame(d)\n",
        "(dd <- cbind(d, char = I(letters[1:10])))\n",
        "rbind(class=sapply(dd, class), mode=sapply(dd, mode))\n",
        "\n",
        "m <- cbind(1, 1:7)  \n",
        "m\n",
        "m <- cbind(m, 8:14)[, c(1, 3, 2)] # inserta una columna\n",
        "m\n",
        "\n",
        "cbind(1:7, diag(3))\t# vector is subset -> warning\n",
        "cbind(0, rbind(1, 1:3))\n",
        "cbind(I=0, X=rbind(a=1, b=1:3))  # use some names\n",
        "xx <- data.frame(I=rep(0,2))\n",
        "cbind(xx, X=rbind(a=1, b=1:3))   # named differently\n",
        "```\n",
        "\n"
      ],
      "metadata": {
        "id": "TLa5WU-hmYW9"
      }
    },
    {
      "cell_type": "code",
      "source": [],
      "metadata": {
        "id": "INlQV5R_mfjc"
      },
      "execution_count": null,
      "outputs": []
    },
    {
      "cell_type": "markdown",
      "source": [
        "# Guardando datos. La función write.table()\n",
        "\n",
        "```\n",
        "x = matrix(1:10,ncol=5)\n",
        "write(x, file=\"Ejercicio1.txt\")\t\t# Ojo con las comillas\n",
        "```\n",
        "\n"
      ],
      "metadata": {
        "id": "is-F8oafmlA-"
      }
    },
    {
      "cell_type": "code",
      "source": [
        "matriz= expand.grid(a=c(60,80), p=c(100, 300), sexo=c(\"Macho\", \"Hembra\"))\n",
        "x = matrix(1:10,ncol=5)\n",
        "write(x,file = \"matriz.txt\")"
      ],
      "metadata": {
        "id": "TpcTmczBnFMA"
      },
      "execution_count": null,
      "outputs": []
    },
    {
      "cell_type": "code",
      "source": [
        "# Mirar que conjuntos de datos (data.frame) existen\n",
        "data()"
      ],
      "metadata": {
        "id": "1yLITpkdoz2P"
      },
      "execution_count": null,
      "outputs": []
    },
    {
      "cell_type": "code",
      "source": [
        "library(MASS)\n",
        "Boston[1:5,\"medv\"]"
      ],
      "metadata": {
        "id": "A2MkY1mCoWOK"
      },
      "execution_count": null,
      "outputs": []
    },
    {
      "cell_type": "code",
      "source": [],
      "metadata": {
        "id": "lh_4Ym4MoLHb"
      },
      "execution_count": null,
      "outputs": []
    },
    {
      "cell_type": "markdown",
      "source": [
        "# VECTORIZACION\n",
        "\n",
        "R no solo maneja vectores numéricos, sino también lógicos. Los elementos de un vector lógico sólo pueden tomar dos valores: FALSE (falso) y TRUE (verdadero). Estos valores se representan también por F y T. (R DevelopmentCoreTeam)\n",
        "\n",
        "VECTORES LOGICOS.\n",
        "\n",
        "Los vectores lógicos aparecen al utilizar condiciones. Por ejemplo,\n",
        "\n",
        "```\n",
        "x = c(5,3,8,10,2,4,3,6,11,21)\n",
        "y = x<5\n",
        "y\n",
        "\n",
        "y = x == 3\n",
        "y\n",
        "```\n",
        "\n"
      ],
      "metadata": {
        "id": "HJeAYgwtqChu"
      }
    },
    {
      "cell_type": "code",
      "source": [],
      "metadata": {
        "id": "H-Od3-FApphd"
      },
      "execution_count": null,
      "outputs": []
    },
    {
      "cell_type": "markdown",
      "source": [
        "Se pueden generar vectores lógicos utilizando\n",
        "expresiones lógicas y/o relacionales,\n",
        "recordando que en R el operador lógico AND es &\n",
        "y | es el operador lógico OR.\n",
        "\n",
        "# Los operadores lógicos son\n",
        "# < (menor que),\n",
        "# <= (menor o igual que),\n",
        "# > (mayor que),\n",
        "# >= (mayor o igual que),\n",
        "# == (igual que), y\n",
        "# != (distinto que).\n",
        "# Además, si c1 y c2 son expresiones lógicas, entonces:\n",
        "# c1&c2 es su intersección (conjunción),\n",
        "# c1|c2 es su unión (disyunción) y\n",
        "# !c1 es la negación dec1. (R DevelopmentCoreTeam)\n",
        "\n",
        "# VECTORES DE ÍNDICES. SELECCIÓN Y MODIFICACIÓN DE SUBVECTORES\n",
        "# (R DevelopmentCoreTeam)\n",
        "#\n",
        "# Puede seleccionar un subvector de un vector\n",
        "# añadiendo al nombre del mismo un vector de índices\n",
        "# entre corchetes, [ y ].\n",
        "# En general podrá obtener un subvector de cualquier\n",
        "# expresión cuyo resultado sea un vector,\n",
        "# sin más que añadirle un vector de índices\n",
        "# entre corchetes.\n",
        "#\n",
        "# Los vectores de índices pueden ser de cuatro tipos distintos:\n",
        "#   \n",
        "# 1. Un vector lógico. En este caso el vector\n",
        "# de índices debe tener la misma longitud que\n",
        "# el vector al que refiere. Sólo se seleccionarán\n",
        "# los elementos correspondientes a valores del\n",
        "# vector de índices y se omitirá el resto.\n",
        "# Por ejemplo,\n",
        "\n",
        "```\n",
        "y=x>5&x<10\n",
        "x[y]\n",
        "```\n",
        "\n"
      ],
      "metadata": {
        "id": "YalYCifdqLNV"
      }
    },
    {
      "cell_type": "code",
      "source": [
        "y=x>=5 | x<=10\n",
        "x[y]"
      ],
      "metadata": {
        "id": "qo1iZ9iRqaCR"
      },
      "execution_count": null,
      "outputs": []
    },
    {
      "cell_type": "code",
      "source": [],
      "metadata": {
        "id": "NiJoE6YeqYkb"
      },
      "execution_count": null,
      "outputs": []
    },
    {
      "cell_type": "markdown",
      "source": [
        "# 2. Un vector de números naturales positivos.\n",
        "# En este caso los elementos del vector de índices\n",
        "# deben pertenecer al conjunto\n",
        "# {1, 2, . . . , length(x)}.\n",
        "# El resultado es un vector formado por los elementos\n",
        "# del vector referido que corresponden a estos\n",
        "# índices y enel orden en que aparecen en el vector\n",
        "# de índices. El vector de índices puede tener\n",
        "# cualquier longitud y el resultado será de esa\n",
        "# misma longitud.\n",
        "# Por ejemplo, x[6] es elsexto elemento de x,\n",
        "# y x[1:10] es el vector formado por los diez\n",
        "# primeros elementos de x,\n",
        "# (supuesto que length(x) no es menor que 10).  \n",
        "\n",
        "# 3. Un vector de números naturales negativos.\n",
        "# En este caso, los índices indican los elementos\n",
        "# del vector referido que deben excluirse.\n",
        "# Así pues,\n",
        "\n",
        "```\n",
        "y = x[-(1:5)]\n",
        "y\n",
        "```\n",
        "\n"
      ],
      "metadata": {
        "id": "ooUqG8WXqd0e"
      }
    },
    {
      "cell_type": "code",
      "source": [
        "x"
      ],
      "metadata": {
        "id": "H4-6ltZzqv0k"
      },
      "execution_count": null,
      "outputs": []
    },
    {
      "cell_type": "code",
      "source": [
        "y = x[(1:5)]\n",
        "y"
      ],
      "metadata": {
        "id": "DPCYwVlxqkSG"
      },
      "execution_count": null,
      "outputs": []
    },
    {
      "cell_type": "code",
      "source": [
        "x[4:7]"
      ],
      "metadata": {
        "id": "sfIBhUzdq7kg"
      },
      "execution_count": null,
      "outputs": []
    },
    {
      "cell_type": "markdown",
      "source": [
        "# 4. Un vector de caracteres. Esta opción solo puede\n",
        "# realizarse si el vector posee (nombres) para\n",
        "# identificar sus componentes, en cuyo caso se\n",
        "# comportará de modo similar al punto 2.\n",
        "\n",
        "```\n",
        "fruta= c(5, 10, 1, 20)\n",
        "names(fruta) = c(\"naranja\", \"plátano\", \"manzana\", \"pera\")\n",
        "postre= fruta[c(\"manzana\",\"naranja\")]\n",
        "```\n",
        "\n"
      ],
      "metadata": {
        "id": "GTeRJqLQqkpj"
      }
    },
    {
      "cell_type": "code",
      "source": [],
      "metadata": {
        "id": "FCm5Iv7frHpk"
      },
      "execution_count": null,
      "outputs": []
    },
    {
      "cell_type": "code",
      "source": [],
      "metadata": {
        "id": "GtmctKYirUyz"
      },
      "execution_count": null,
      "outputs": []
    },
    {
      "cell_type": "code",
      "source": [],
      "metadata": {
        "id": "Ilq_jpgkqq3B"
      },
      "execution_count": null,
      "outputs": []
    },
    {
      "cell_type": "markdown",
      "source": [
        "# Problema: Se tiene una lista numerada de\n",
        "# personas que practican diferentes deportes;\n",
        "# b=basket,f=football y v=voley.\n",
        "# Se quiere saber quiénes y cuántos practican\n",
        "# cada uno de los deportes.\n",
        "\n",
        "```\n",
        "play= c(\"f\",\"b\",\"f\",\"v\",\"b\",\"v\",\"b\",\"f\",\"v\",\"b\",\"v\",\"b\")\n",
        "# extraer los que juegan basquet\n",
        "lista = data.frame(Id=1:12,play)\n",
        "ob = lista[,2]==\"b\"\n",
        "lista[ob,]\n",
        "# Contabilizar\n",
        "nrow(lista[ob,])\n",
        "\n",
        "# Examine las siguientes órdenes\n",
        "play==\"b\"\n",
        "play.b<- play[play==\"b\"]\n",
        "play.b\n",
        "length(play.b)\n",
        "```\n",
        "\n"
      ],
      "metadata": {
        "id": "zb4QJFzDqtDz"
      }
    },
    {
      "cell_type": "code",
      "source": [
        "play= c(\"f\",\"b\",\"f\",\"v\",\"b\",\"v\",\"b\",\"f\",\"v\",\"b\",\"v\",\"b\")\n",
        "play"
      ],
      "metadata": {
        "id": "KNSGYLfkrm5P"
      },
      "execution_count": null,
      "outputs": []
    },
    {
      "cell_type": "code",
      "source": [
        "lista = data.frame(Id=1:12,play)\n",
        "lista"
      ],
      "metadata": {
        "id": "V4_Iwk7dq6ES"
      },
      "execution_count": null,
      "outputs": []
    },
    {
      "cell_type": "code",
      "source": [
        "# Establece el criterio de los que juegan b\n",
        "ob = lista[,2]==\"b\""
      ],
      "metadata": {
        "id": "ENUwGzs4rv_T"
      },
      "execution_count": null,
      "outputs": []
    },
    {
      "cell_type": "code",
      "source": [
        "lista[ob,]"
      ],
      "metadata": {
        "id": "A_I1VgQdsEtY"
      },
      "execution_count": null,
      "outputs": []
    },
    {
      "cell_type": "markdown",
      "source": [
        "# LA FUNCIÓN subset() de R para extraer\n",
        "# subconjuntos de datos para cada valor\n",
        "# de la temperatura.\n",
        "# Cargue el documento humedades,\n",
        "# seleccione y copie todos los datos,\n",
        "# luego lance las siguientes ordenes:\n",
        "\n",
        "# FUNCIONA SOLO EN WINDOWS\n",
        "\n",
        "```\n",
        "h=read.delim(\"clipboard\")\n",
        "attach(h)\n",
        "h40=subset(h,temperatura==40)\n",
        "write.table(h40,\"clipboard\",sep=\"\\t\",col.names=NA)\n",
        "# En excel pegue con Ctrl+V.\n",
        "```\n",
        "\n"
      ],
      "metadata": {
        "id": "0Cp3l2xNq6mC"
      }
    },
    {
      "cell_type": "code",
      "source": [
        "names(Boston)"
      ],
      "metadata": {
        "id": "0HKDM-wdrJCu"
      },
      "execution_count": null,
      "outputs": []
    },
    {
      "cell_type": "code",
      "source": [
        "subset(Boston, medv < mean(Boston$medv) )"
      ],
      "metadata": {
        "id": "3GbSf7KgtH4l"
      },
      "execution_count": null,
      "outputs": []
    },
    {
      "cell_type": "code",
      "source": [
        "summary(Boston$medv)"
      ],
      "metadata": {
        "id": "OGBbnbKvsx5m"
      },
      "execution_count": null,
      "outputs": []
    },
    {
      "cell_type": "markdown",
      "source": [
        "# RESUMIENDO INFORMACION APLICANDO FUNCIONES DE\n",
        "# RESUMEN SOBRE SUBCONJUNTOS DE DATOS CREADOS\n",
        "# SEGÚN VARIABLES DE AGRUPACION O FACTORES\n",
        "[FUNCION: aggregate()](http://r-econ.blogspot.com/2013/11/funcion-aggregate-ejemplos.html)\n",
        "\n",
        "# Función aggregate: Ejemplos\n",
        "\n",
        "En R es fácil resumir información a partir de aplicación de funciones sobre los subgrupos creados según las variables de agrupación (factor o numérica) por las cuales se desean hacer las agrupaciones. Es posible hacer esto con una gran variedad de funciones (aggregate, split, by, tapply y con otras funciones del paquete plyr), sin embargo este post sólo trata de la función aggregate porque está en el paquete base de R y es muy manejable.\n",
        "\n",
        "Según la documentación de la función aggregate, esta función divide la muestra en subconjuntos, calcula los estadísticos deseados por cada subconjunto y devuelve el resultado en una forma conveniente, esto significa que el resultado puede ser un vector, un data.frame o una lista según sea más conveniente.\n",
        "\n",
        "A continuación, algunos ejemplos usando la base datos iris.\n"
      ],
      "metadata": {
        "id": "qt-J-H4RrMlo"
      }
    },
    {
      "cell_type": "code",
      "source": [
        "data(iris) # cargando la base de datos `iris`\n",
        "\n",
        "head(iris) # así lucen los datos."
      ],
      "metadata": {
        "id": "aL2JQXUnrsky"
      },
      "execution_count": null,
      "outputs": []
    },
    {
      "cell_type": "code",
      "source": [],
      "metadata": {
        "id": "UmMkAzljrw1Q"
      },
      "execution_count": null,
      "outputs": []
    },
    {
      "cell_type": "markdown",
      "source": [
        "# Nota En todo este parte se usará la notación de fórmula dentro de la función aggregate donde la lógica es escribir al lado izquierdo del símbolo ~ la variable que se quiere agrupar y al lado derecho, la variable de agrupación: variable_a_ser_agrupada ~ variable_de_agrupación. Así la sintaxis entera será:\n",
        "\n",
        "```\n",
        "aggregate(variable_a_ser_agrupada ~ variable_de_agrupación, FUN=función_deseada, data=base_de_datos)\n",
        "```\n",
        "\n"
      ],
      "metadata": {
        "id": "IZaezD_br4YS"
      }
    },
    {
      "cell_type": "code",
      "source": [],
      "metadata": {
        "id": "32joTDEsr7Sq"
      },
      "execution_count": null,
      "outputs": []
    },
    {
      "cell_type": "markdown",
      "source": [
        "# Ejemplo 1\n",
        "\n",
        "Calculando la suma de Sepal.Length por Species, como ha de esperarse, el resultado final será un data.frame con la suma total de la variable Sepal.Length por cada especie contenida en la variable Species.\n",
        "\n",
        "```\n",
        "aggregate(Sepal.Length ~ Species, FUN = sum, data = iris)\n",
        "```\n",
        "\n"
      ],
      "metadata": {
        "id": "0NmDGMiOsGLX"
      }
    },
    {
      "cell_type": "code",
      "source": [],
      "metadata": {
        "id": "7iOc6qzlsMn3"
      },
      "execution_count": null,
      "outputs": []
    },
    {
      "cell_type": "markdown",
      "source": [
        "# Ejemplo 2\n",
        "\n",
        "Una facilidad que permite la función aggregate es que se pueden resumir más de una variable, veamos la suma de todas las demás varibles según la especie.\n",
        "\n",
        "```\n",
        "aggregate(cbind(Sepal.Length, Sepal.Width, Petal.Length, Petal.Width) ~ Species, FUN = sum, data = iris)\n",
        "```\n",
        "\n"
      ],
      "metadata": {
        "id": "vzpROmRHsNDi"
      }
    },
    {
      "cell_type": "code",
      "source": [],
      "metadata": {
        "id": "dCJNBvITsWnO"
      },
      "execution_count": null,
      "outputs": []
    },
    {
      "cell_type": "markdown",
      "source": [
        "# Nótese que cuando se quieren “agregar” muchas variables es necesario usar la función cbind para que funcione. Sin embargo, no es muy práctico escribir el nombre de cada variable como se muestra en el ejemplo anterior, pero como se está utilizando el estilo de “fórmula” para escribir dentro de la función aggregate esta permite reemplazar lo anterior por este nuevo código:\n",
        "\n",
        "```\n",
        "aggregate(. ~ Species, FUN = sum, data = iris)\n",
        "# y como ha de esperarse, los resultados son los mismos\n",
        "```\n",
        "\n"
      ],
      "metadata": {
        "id": "SjKxPy7rsXN-"
      }
    },
    {
      "cell_type": "code",
      "source": [],
      "metadata": {
        "id": "l1tzRuLWsnSm"
      },
      "execution_count": null,
      "outputs": []
    },
    {
      "cell_type": "markdown",
      "source": [
        "# Ejemplo 3\n",
        "\n",
        "¿Qué tal si tuviéramos más de 1 variable de agregación, por ejemplo Species y Petal.Size?, Esto no representa ningún problema para aggregate, veamos un ejemplo.\n",
        "\n",
        "Primero se ha de crear la nueva variable Petal.Size que indica si la longitud del pétalo (Petal.Length) es mayor que su valor mediano (4.350 cm) tendrá el valor Bigy si es menor o igual, será Small.\n",
        "\n",
        "```\n",
        "iris$Petal.Size <- with(iris, ifelse(Petal.Length > median(Petal.Length), \"Big\", \"Small\"))\n",
        "\n",
        "aggregate(Petal.Length ~ Species + Petal.Size, FUN = sum, data = iris)  \n",
        "# resultado sólo para Petal.Length\n",
        "\n",
        "aggregate(. ~ Species + Petal.Size, FUN = sum, data = iris)  \n",
        "# resultado para todos\n",
        "```\n",
        "\n"
      ],
      "metadata": {
        "id": "bSc2sArssnk5"
      }
    },
    {
      "cell_type": "code",
      "source": [],
      "metadata": {
        "id": "3SmKdEb8s8Ff"
      },
      "execution_count": null,
      "outputs": []
    },
    {
      "cell_type": "markdown",
      "source": [
        "# Ejemplo 4 (un truco sencillo)\n",
        "\n",
        "¿Y si en lugar de sólo querer la suma, quiero además la media y desviación estándar de los datos de Petal.Length agrupados por Species?, Esto se puede hacer sin ningún problema.\n",
        "\n",
        "```\n",
        "resultado <- aggregate(Petal.Length ~ Species, FUN = function(x) c(Suma = sum(x), Media = mean(x), SD = sd(x)), data = iris)  \n",
        "\n",
        "resultado\n",
        "```\n",
        "\n"
      ],
      "metadata": {
        "id": "nJm2dScbtBbJ"
      }
    },
    {
      "cell_type": "code",
      "source": [],
      "metadata": {
        "id": "7khLpS8QtH4H"
      },
      "execution_count": null,
      "outputs": []
    },
    {
      "cell_type": "code",
      "source": [],
      "metadata": {
        "id": "QJAnWZfrtJcT"
      },
      "execution_count": null,
      "outputs": []
    },
    {
      "cell_type": "markdown",
      "source": [
        "# A pesar que el resultado mostrado es el adecuado, en realidad, no es muy útil si se desea guardar para luego volverlo a usar, porque en realidad el output de este último ejemplo es un data.frame que debería tener la información calculada, pero si intentamos acceder a esa info a través de su nombre o su posición nos dice que no existe tal información!!! :(\n",
        "\n",
        "```\n",
        "resultado[, \"Petal.Length.Suma\"]\n",
        "# Error en `[.data.frame`(resultado, , 3) : undefined columns selected :(\n",
        "\n",
        "resultado[, \"Petal.Length.Media\"]\n",
        "# Error en `[.data.frame`(resultado, , 3) : undefined columns selected :(\n",
        "\n",
        "resultado[, 3]\n",
        "# Error en `[.data.frame`(resultado, , 3) : undefined columns selected :(\n",
        "```\n",
        "\n"
      ],
      "metadata": {
        "id": "07tdC8aetZHm"
      }
    },
    {
      "cell_type": "code",
      "source": [],
      "metadata": {
        "id": "aYOabNwOtqMN"
      },
      "execution_count": null,
      "outputs": []
    },
    {
      "cell_type": "markdown",
      "source": [
        "# hay una sencilla solución para ello, basta con convertir esto a un data.frame usado la función do.call\n",
        "\n",
        "```\n",
        "resultado2 <- do.call(data.frame, resultado)\n",
        "```\n",
        "\n"
      ],
      "metadata": {
        "id": "4-Mp9KwztxGn"
      }
    },
    {
      "cell_type": "code",
      "source": [],
      "metadata": {
        "id": "WemMZYtVt2SF"
      },
      "execution_count": null,
      "outputs": []
    },
    {
      "cell_type": "markdown",
      "source": [
        "# Aparentemente no ha habido ningún cambio respecto a lo anterior, sin embargo, ahora sí se pueden acceder a los datos de las columnas, porque ahora sí existen!!!\n",
        "\n",
        "```\n",
        "resultado2[, \"Petal.Length.Suma\", drop = FALSE] # Sí funciona!!!\n",
        "\n",
        "resultado2[, \"Petal.Length.Media\", drop = FALSE] # Sí funciona!!!  \n",
        "\n",
        "resultado2[, 3, drop = FALSE] # Sí funciona!!!\n",
        "```\n",
        "\n"
      ],
      "metadata": {
        "id": "pcRv6cMHt7hP"
      }
    },
    {
      "cell_type": "code",
      "source": [],
      "metadata": {
        "id": "Y4rwNbasuAwM"
      },
      "execution_count": null,
      "outputs": []
    },
    {
      "cell_type": "markdown",
      "source": [
        "# CONJUNTO DE DATOS Airquality\n",
        "New York Air Quality Measurements\n",
        "\n",
        "**Description **\n",
        "Daily air quality measurements in New York, May to September 1973.\n",
        "\n",
        "**Usage **\n",
        "airquality\n",
        "\n",
        "**Format**\n",
        "A data frame with 154 observations on 6 variables.\n",
        "\n",
        "# CONVERSIONES\n",
        "\n",
        "1 Langley/day = 0.484583 Watt/m2\n",
        "\n",
        "1 Millapor hora = 0.447 m/s\n",
        "\n",
        "ºC= (°F - 32) x ( 5 / 9)\n",
        "\n",
        "ºF = (°C X 9 / 5) + 32"
      ],
      "metadata": {
        "id": "wIZ1yMRTuBI6"
      }
    },
    {
      "cell_type": "code",
      "source": [],
      "metadata": {
        "id": "LQX7cpWpuZ5f"
      },
      "execution_count": null,
      "outputs": []
    },
    {
      "cell_type": "markdown",
      "source": [
        "# FUNCION subset ()\n",
        "\n",
        "```\n",
        "airquality\n",
        "subset(airquality, Temp > 80, select = c(Ozone, Temp))\n",
        "subset(airquality, Day == 1, select = -Temp)\n",
        "subset(airquality, select = Ozone:Wind)\n",
        "```\n",
        "\n"
      ],
      "metadata": {
        "id": "112kWyqlugRJ"
      }
    },
    {
      "cell_type": "code",
      "source": [],
      "metadata": {
        "id": "QM3jqyjVupr-"
      },
      "execution_count": null,
      "outputs": []
    },
    {
      "cell_type": "markdown",
      "source": [
        "# MATRICES DE DISPERSIÓN\n",
        "\n",
        "# Función pairs()\n",
        "\n",
        "Produce una matriz de dispersión.  \n",
        "\n",
        "Uso:\n",
        "pairs(x, ...)"
      ],
      "metadata": {
        "id": "F4b7_57fu_u9"
      }
    },
    {
      "cell_type": "code",
      "source": [],
      "metadata": {
        "id": "jpo_vtCHvI97"
      },
      "execution_count": null,
      "outputs": []
    },
    {
      "cell_type": "markdown",
      "source": [
        "# EJEMPLOS:\n",
        "\n",
        "```\n",
        "aire=airquality\n",
        "names(aire)=c(\"oz\",\"rs\",\"vv\",\"t\",\"mes\",\"dia\")\n",
        "names(aire)\n",
        "summary(aire)\n",
        "attach(aire)\n",
        "pairs(airquality, panel = panel.smooth, main = \"airquality data\")\n",
        "pairs(aire)\n",
        "pairs(~rs+t)\n",
        "pairs(~rs+t+vv)\n",
        "pairs(~rs+t+vv,data=aire,subset=mes==5)\n",
        "pairs(aire[1:3])\n",
        "airquality\n",
        "subset(airquality, Temp > 80, select = c(Ozone, Temp))\n",
        "subset(airquality, Day == 1, select = -Temp)\n",
        "subset(airquality, select = Ozone:Wind)\n",
        "```\n",
        "\n"
      ],
      "metadata": {
        "id": "xWW6ttGYuqGb"
      }
    },
    {
      "cell_type": "code",
      "source": [],
      "metadata": {
        "id": "5gNI6vp6u-bx"
      },
      "execution_count": null,
      "outputs": []
    },
    {
      "cell_type": "markdown",
      "source": [
        "# EJERCICIOS\n",
        "\n",
        "1. Cambie los nombres de las variables del conjunto de datos airquality. Haga resúmenes de Temperaturas en grados centígrados, radiación solar en w/m², velocidad del viento en m/s para cada mes\n",
        "2. Copie Agregados_Muestreo.xls e impórtelo hacia R\n",
        "3. Obtenga subconjuntos para cada formación geológica (fgeo), vectorizando y con subset\n",
        "4. Describa las variables rcompa y rcompc para cada formación geológica (fgeo)\n",
        "5. Describa las variables rcompa y rcompc para cada zona.\n",
        "\n",
        "# Utilice las funciones min(), max(), mean(), summary()\n",
        "6. Describa el conjunto de datos de las concentraciones de mercurio por tratamiento y bloques del profesor Luis Dias\n",
        "\n",
        "    6.1 Utilice el paquete lattice [install.packages(“lattice”)] y grafique con las funciones:\n",
        "    + xyplot(x, data, ...)\n",
        "    + dotplot(x, data, ...)\n",
        "    + barchart(x, data, ...)\n",
        "    + stripplot(x, data, ...)\n",
        "    + bwplot(x, data, ...)\n",
        "    \n",
        "    6.2 Reemplace x por las expresiones: `hg~tto|bloque`\n",
        "\n",
        "    6.3 Reemplace x por las expresiones: `hg~bloque|tto`\n",
        "    \n",
        "    6.4 Resuma y describa los subconjuntos de datos del mercurio para el: Tratamiento 3. Suelo con concentración de mercurio 21,76 µgHg/g. Utilice la función `subset(x,tto==”T3”)`.\n",
        "\n",
        "7. Describa el conjunto de datos de las concentraciones de mercurio por especie, días y región del profesor Enaldo Garrido. Igual que en el ejercicio anterior.     \n"
      ],
      "metadata": {
        "id": "Q_CtTtXkvU9z"
      }
    },
    {
      "cell_type": "code",
      "source": [],
      "metadata": {
        "id": "2kUvuLt9wbD-"
      },
      "execution_count": null,
      "outputs": []
    }
  ]
}